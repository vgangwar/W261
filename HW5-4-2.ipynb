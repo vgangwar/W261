{
 "cells": [
  {
   "cell_type": "markdown",
   "metadata": {},
   "source": [
    "##HW 5.4 (2) Pairwise Distances\n",
    "The step produces the following output:  \n",
    "[\"artists\", \"whilst\"]\t[2567.9386674918856, 16197.0]  \n",
    "[\"artists\", \"wipe\"]\t[3125.7741441121429, 17348.0]  \n",
    "[\"artists\", \"worshipped\"]\t[3058.6982525250837, 14961.0]  \n",
    "[\"artists\", \"year's\"]\t[2680.9888101221163, 17719.0]  \n",
    "[\"arts\", \"abandonment\"]\t[10995.817386624789, 48042.0]  \n",
    "[\"arts\", \"abroad\"]\t[11316.550799603208, 48720.0]  \n",
    "The output is stored at s3://ucb-mids-mls-vineetgangwar/HW54/2\n",
    "  \n",
    "####Code Description\n",
    "1. The job calculates Euclidean and Manhattan distance\n",
    "2. The mapper_init function reads all the top 10K words generated in the step 5.4.1.b above\n",
    "3. The mapper reads in each of the 10K words along with the co-occurrence vectors one by one\n",
    "4. The mapper then creates combinations of pairs from the 10K words read in step 2 above\n",
    "5. For each input word,vector the mapper emits pair,vector for all the pairs in step 4 above that contains the word\n",
    "e.g.  \n",
    "if input to mapper is 'abstract' 2,4,5,2,4,...  \n",
    "then the mapper will output the vector along with any pair that has 'abstract' in it  \n",
    "('the', 'abstract') 2,4,5,2,4,...  \n",
    "('abstract', 'end;) 2,4,5,2,4,...  \n",
    "5. The reducer then receives each pair along with a list of two co-occurrence vectors. One vector for each word in the pair\n",
    "6. The reducer then calculates the distances and outputs each pair along with Euclidean and manhattan distances"
   ]
  },
  {
   "cell_type": "code",
   "execution_count": null,
   "metadata": {
    "collapsed": true
   },
   "outputs": [],
   "source": [
    "%%writefile hw542.py\n",
    "\n",
    "\n",
    "# Calculating distances\n",
    "\n",
    "from mrjob.job import MRJob\n",
    "from mrjob.step import MRStep\n",
    "import numpy as np\n",
    "import urllib2\n",
    "import itertools\n",
    "\n",
    "def euclidean_distance(np_data1, np_data2):\n",
    "    # Calculate Euclidean distance between two points in 10000 dimensional space\n",
    "    diff = np_data1 - np_data2\n",
    "    diff_sq = diff**2\n",
    "    diff_sq_sum = sum(diff_sq)\n",
    "    dist = diff_sq_sum**0.5\n",
    "    return dist\n",
    "\n",
    "def manhattan_distance(np_data1, np_data2):\n",
    "    # Calculate Manhattan distance between two points in 10000 dimensional space\n",
    "    return np.absolute(np_data1 - np_data2).sum()\n",
    "\n",
    "class hw542(MRJob):\n",
    "    def mapper_init(self):\n",
    "        self.wordlist = list()\n",
    "        \n",
    "        # Reading in 10K words\n",
    "        s3_path = 'https://s3.amazonaws.com/ucb-mids-mls-vineetgangwar/HW54/1b/part-00000'\n",
    "        filehndl = urllib2.urlopen(s3_path)\n",
    "        \n",
    "        for line in filehndl:\n",
    "            word = line.split()[1].replace('\"', '')\n",
    "            self.wordlist.append(word)\n",
    "        filehndl.close()\n",
    "    \n",
    "    def mapper(self, line_no, line):\n",
    "        [word, vector] = line.strip().split()\n",
    "        word = word.replace('\"', '')\n",
    "        vector = vector.replace('\"', '')[:-1]\n",
    "\n",
    "        self.pairs = itertools.combinations(self.wordlist, 2)\n",
    "        for pair in self.pairs:\n",
    "            if word in pair:\n",
    "                yield pair, vector\n",
    "                \n",
    "    def reducer(self, pair, vectors):\n",
    "        [v1, v2] = vectors\n",
    "        v1 = v1.split(',')\n",
    "        v1 = np.array(v1).astype(float)\n",
    "        v2 = v2.split(',')\n",
    "        v2 = np.array(v2).astype(float)\n",
    "        e_dist = euclidean_distance(v1, v2)\n",
    "        m_dist = manhattan_distance(v1, v2)\n",
    "        yield pair, (e_dist, m_dist)\n",
    "\n",
    "    def steps(self):\n",
    "        return [\n",
    "            MRStep(mapper_init    = self.mapper_init,\n",
    "                   mapper         = self.mapper,\n",
    "                   reducer        = self.reducer)\n",
    "        ]\n",
    "\n",
    "if __name__ == '__main__':\n",
    "    hw542.run()"
   ]
  },
  {
   "cell_type": "code",
   "execution_count": null,
   "metadata": {
    "collapsed": true
   },
   "outputs": [],
   "source": [
    "!python hw542.py -r emr s3://ucb-mids-mls-vineetgangwar/HW54/1c/ --output-dir=s3://ucb-mids-mls-vineetgangwar/HW54/2 --no-output"
   ]
  }
 ],
 "metadata": {
  "kernelspec": {
   "display_name": "Python 2",
   "language": "python",
   "name": "python2"
  },
  "language_info": {
   "codemirror_mode": {
    "name": "ipython",
    "version": 2
   },
   "file_extension": ".py",
   "mimetype": "text/x-python",
   "name": "python",
   "nbconvert_exporter": "python",
   "pygments_lexer": "ipython2",
   "version": "2.7.10"
  }
 },
 "nbformat": 4,
 "nbformat_minor": 0
}
