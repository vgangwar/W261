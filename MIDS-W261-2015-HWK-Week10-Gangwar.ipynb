{
 "cells": [
  {
   "cell_type": "markdown",
   "metadata": {
    "collapsed": false
   },
   "source": [
    "#DATASCI W261: Machine Learning at Scale\n",
    "**Vineet Gangwar  \n",
    "vineet.gangwar@gmail.com  \n",
    "W261-2: Machine Learning at Scale  \n",
    "Assignment #10  \n",
    "Date: Nov - 16 - 2015**"
   ]
  },
  {
   "cell_type": "markdown",
   "metadata": {
    "collapsed": true
   },
   "source": [
    "#HW 10.0: Short answer questions\n",
    "\n",
    "What is Apache Spark and how is it different to Apache Hadoop? \n",
    "\n",
    "Fill in the blanks:\n",
    "Spark API consists of interfaces to develop applications based on it in Java, ...... languages (list languages). \n",
    "\n",
    "Using Spark, resource management can be done either in a single server instance or using a framework such as Mesos or ????? in a distributed manner.\n",
    "\n",
    "What is an RDD and show a fun example of creating one and bringing the first element back to the driver program.\n",
    "\n",
    "What is lazy evaluation and give an intuitoive example of lazy evaluation and comment on the massive computational savings to be had from lazy evaluation."
   ]
  },
  {
   "cell_type": "markdown",
   "metadata": {},
   "source": [
    "##Answer\n",
    "####What is Apache Spark and how is it different to Apache Hadoop? \n",
    ">Apache Spark is a memory based distributed cluster computing platform that is used for fast and large scale data processing. Hadoop is disk based, has only two operations (map and reduce) and operates in batch mode while Spark is primarily memory based, has over 80 operations and can streaming, interactive queries, and machine learning apart from batch processing\n",
    "\n",
    "####Fill in the blanks.\n",
    ">Spark API consists of interfaces to develop applications based on it in Java, **<u>Scala, Python, and R</u>** languages.  \n",
    "Using Spark, resource management can be done either in a single server instance or using a framework such as Mesos or **<u>YARN</u>** in a distributed manner.\n",
    "\n",
    "####What is an RDD and show a fun example of creating one and bringing the first element back to the driver program.\n",
    ">RDD stands for Resilient Distributed Dataset. Spark is build around the idea of RDD. The data on which a Spark program operates is stored in an RDD. RDD is primarily a memory resident distributed dataset. Spark operates on the elements in an RDD in parallel  \n",
    "Code example:\n",
    "RDD = sc.parallelize(range(1000)\n",
    "firstElement = RDD.first()\n",
    "\n",
    "####What is lazy evaluation and give an intuitive example of lazy evaluation and comment on the massive computational savings to be had from lazy evaluation.\n",
    ">Spark has 2 classes of operations - transformations and actions which are equivalent to map and reduce. Spark only executes when it encounters an action operation. It does not execute when it encounters a transformation operation.  \n",
    "Example:  \n",
    "Suppose the input dataset contains a billion records and that there are 10 tranformations followed by the action RDD.take(1).  \n",
    "Without lazy evaluation, Spark would have computed the transformation of the billion records 10 times before returning a record. With lazy evaluation, Spark can analyze what is required as the output and then optimize the execution so that it needs to do minimal work to return the result. Essentially Spark only needs to read one record, transform it 10 times and return it"
   ]
  },
  {
   "cell_type": "markdown",
   "metadata": {},
   "source": [
    "#HW 10.1\n",
    "In Spark write the code to count how often each word appears in a text document (or set of documents). Please use this homework document as a the example document to run an experiment.  Report the following: provide a sorted list of tokens in decreasing order of frequency of occurence."
   ]
  },
  {
   "cell_type": "markdown",
   "metadata": {},
   "source": [
    "##Answer"
   ]
  },
  {
   "cell_type": "code",
   "execution_count": 3,
   "metadata": {
    "collapsed": false
   },
   "outputs": [
    {
     "name": "stdout",
     "output_type": "stream",
     "text": [
      "Welcome to\n",
      "      ____              __\n",
      "     / __/__  ___ _____/ /__\n",
      "    _\\ \\/ _ \\/ _ `/ __/  '_/\n",
      "   /__ / .__/\\_,_/_/ /_/\\_\\   version 1.5.1\n",
      "      /_/\n",
      "\n",
      "Using Python version 2.7.10 (default, May 28 2015 17:02:03)\n",
      "SparkContext available as sc, HiveContext available as sqlContext.\n"
     ]
    }
   ],
   "source": [
    "import os\n",
    "import sys #current as of 9/26/2015\n",
    "spark_home = os.environ['SPARK_HOME'] = '/home/vineetgangwar/Documents/spark/'\n",
    "\n",
    "if not spark_home:\n",
    "    raise ValueError('SPARK_HOME enviroment variable is not set')\n",
    "sys.path.insert(0,os.path.join(spark_home,'python'))\n",
    "sys.path.insert(0,os.path.join(spark_home,'python/lib/py4j-0.8.2.1-src.zip'))\n",
    "execfile(os.path.join(spark_home,'python/pyspark/shell.py'))"
   ]
  },
  {
   "cell_type": "code",
   "execution_count": 10,
   "metadata": {
    "collapsed": false
   },
   "outputs": [
    {
     "data": {
      "text/plain": [
       "[(u'y)', 1),\n",
       " (u'sameModel', 1),\n",
       " (u'weight(X)=', 1),\n",
       " (u'10.2:', 1),\n",
       " (u'intuitoive', 1),\n",
       " (u'(cluster', 1),\n",
       " (u'consists', 1),\n",
       " (u'based', 1),\n",
       " (u'parameters', 1),\n",
       " (u'error(point):', 1),\n",
       " (u'(Euclidean', 1),\n",
       " (u'Modify', 1),\n",
       " (u'3', 1),\n",
       " (u'Here', 1),\n",
       " (u'languages', 1),\n",
       " (u'snippet', 1),\n",
       " (u'SQRT(X.X)=', 1),\n",
       " (u'2,', 1),\n",
       " (u'homework', 1),\n",
       " (u'Load', 1),\n",
       " (u'return', 1),\n",
       " (u'runs=10,', 1),\n",
       " (u'KMeans,', 1),\n",
       " (u'runs', 1),\n",
       " (u'experiment.', 1),\n",
       " (u'Berkeley,', 1),\n",
       " (u'compute', 1),\n",
       " (u'sc.textFile(\"kmeans_data.txt\")', 1),\n",
       " (u'bringing', 1),\n",
       " (u'program.', 1),\n",
       " (u'===========================================================================',\n",
       "  1),\n",
       " (u'resource', 1),\n",
       " (u'questions===', 1),\n",
       " (u'array([float(x)', 1),\n",
       " (u'frequency.', 1),\n",
       " (u'(point', 1),\n",
       " (u'1/||X||,', 1),\n",
       " (u'(or', 1),\n",
       " (u'Learning', 1),\n",
       " (u'KMeansModel.load(sc,', 1),\n",
       " (u'where', 1),\n",
       " (u'initializationMode=\"random\")', 1),\n",
       " (u'generation', 1),\n",
       " (u'begin', 1),\n",
       " (u'(homegrown', 1),\n",
       " (u'provided).', 1),\n",
       " (u'10.4:', 1),\n",
       " (u'sqrt(sum([x**2', 1),\n",
       " (u'please', 1),\n",
       " (u'per', 1),\n",
       " (u'cell', 1),\n",
       " (u'blanks:', 1),\n",
       " (u'above', 1),\n",
       " (u'math', 1),\n",
       " (u'HW10', 1),\n",
       " (u'driver', 1),\n",
       " (u'interfaces', 1),\n",
       " (u'modify', 1),\n",
       " (u'20', 1),\n",
       " (u'fun', 1),\n",
       " (u'error(point)).reduce(lambda', 1),\n",
       " (u'Weight', 1),\n",
       " (u'comment', 1),\n",
       " (u'implementation', 1),\n",
       " (u'length', 1),\n",
       " (u'resulting', 1),\n",
       " (u'follows:', 1),\n",
       " (u'UC', 1),\n",
       " (u'load', 1),\n",
       " (u'letters', 1),\n",
       " (u'?????', 1),\n",
       " (u'==================', 1),\n",
       " (u'distributed', 1),\n",
       " (u'Please', 1),\n",
       " (u'done', 1),\n",
       " (u'10.6:', 1),\n",
       " (u'DATSCI', 1),\n",
       " (u'array', 1),\n",
       " (u'==================END', 1),\n",
       " (u'https://www.dropbox.com/s/3nsthvp8g2rrrdh/EM-Kmeans.ipynb?dl=0', 1),\n",
       " (u'clustering', 1),\n",
       " (u'use', 1),\n",
       " (u'findings', 1),\n",
       " (u'HW10.5.', 1),\n",
       " (u'(a-z)', 1),\n",
       " (u'numpy', 1),\n",
       " (u'X2^2)', 1),\n",
       " (u'sort', 1),\n",
       " (u'x,', 1),\n",
       " (u'manner.', 1),\n",
       " (u'(using', 1),\n",
       " (u'had', 1),\n",
       " (u'case', 1),\n",
       " (u'10.0:', 1),\n",
       " (u'Run', 1),\n",
       " (u'MLlib-centric', 1),\n",
       " (u'single', 1),\n",
       " (u'============================================', 1),\n",
       " (u'labeled', 1),\n",
       " (u\"')]))\", 1),\n",
       " (u'def', 1),\n",
       " (u'model?', 1),\n",
       " (u'parse', 1),\n",
       " (u'Call', 1),\n",
       " (u'KMeans.train(parsedData,', 1),\n",
       " (u'WSSSE', 1),\n",
       " (u'different', 1),\n",
       " (u'data)', 1),\n",
       " (u'provide', 1),\n",
       " (u'(one', 1),\n",
       " (u'-', 1),\n",
       " (u'sqrt', 1),\n",
       " (u'write', 1),\n",
       " (u'answer', 1),\n",
       " (u'point:', 1),\n",
       " (u'Machine', 1),\n",
       " (u'W261', 1),\n",
       " (u'Download', 1),\n",
       " (u'SQRT(X1^2', 1),\n",
       " (u'develop', 1),\n",
       " (u'data.map(lambda', 1),\n",
       " (u'tune', 1),\n",
       " (u'documents).', 1),\n",
       " (u'tokens', 1),\n",
       " (u'lower', 1),\n",
       " (u'Mesos', 1),\n",
       " (u'......', 1),\n",
       " (u'savings', 1),\n",
       " (u'1', 1),\n",
       " (u'algorithms', 1),\n",
       " (u'pyspark.mllib.clustering', 1),\n",
       " (u'hyper', 1),\n",
       " (u'show', 1),\n",
       " (u'text', 1),\n",
       " (u'\"Gradient', 1),\n",
       " (u'Final', 1),\n",
       " (u\"line.split('\", 1),\n",
       " (u'inverse', 1),\n",
       " (u'number', 1),\n",
       " (u'Linear', 1),\n",
       " (u'la', 1),\n",
       " (u\"MLlib's\", 1),\n",
       " (u'#10===', 1),\n",
       " (u'X2.', 1),\n",
       " (u'do', 1),\n",
       " (u'good', 1),\n",
       " (u'get', 1),\n",
       " (u'evaluate', 1),\n",
       " (u'Kmean', 1),\n",
       " (u'framework', 1),\n",
       " (u'made', 1),\n",
       " (u'progress', 1),\n",
       " (u'sorted', 1),\n",
       " (u'dataset', 1),\n",
       " (u'10.5:', 1),\n",
       " (u'evaluation.', 1),\n",
       " (u'follows', 1),\n",
       " (u'https://www.dropbox.com/s/atzqkc0p1eajuz6/LinearRegression-Notebook-Challenge.ipynb?dl=0',\n",
       "  1),\n",
       " (u'server', 1),\n",
       " (u'10.1.1', 1),\n",
       " (u'API', 1),\n",
       " (u'either', 1),\n",
       " (u'output', 1),\n",
       " (u'hundred)', 1),\n",
       " (u'Again', 1),\n",
       " (u'often', 1),\n",
       " (u'ASSIGNMENT', 1),\n",
       " (u'back', 1),\n",
       " (u'experiments', 1),\n",
       " (u'clusters.save(sc,', 1),\n",
       " (u'frequency', 1),\n",
       " (u'Build', 1),\n",
       " (u'X', 1),\n",
       " (u'center)]))', 1),\n",
       " (u'MLLib', 1),\n",
       " (u'experiements', 1),\n",
       " (u'Save', 1),\n",
       " (u'NOTE:', 1),\n",
       " (u'parsedData', 1),\n",
       " (u'following:', 1),\n",
       " (u'Evaluate', 1),\n",
       " (u'separate', 1),\n",
       " (u'find', 1),\n",
       " (u'weighted', 1),\n",
       " (u'Regression', 1),\n",
       " (u'Short', 1),\n",
       " (u'creating', 1),\n",
       " (u'provide,', 1),\n",
       " (u'occurence.', 1),\n",
       " (u'Spark,', 1),\n",
       " (u'Hadoop?', 1),\n",
       " (u'10.6.2', 1),\n",
       " (u'by', 1),\n",
       " (u'Justify', 1),\n",
       " (u'clusters.centers[clusters.predict(point)]', 1),\n",
       " (u'languages).', 1),\n",
       " (u'str(WSSSE))', 1),\n",
       " (u'KMEans', 1),\n",
       " (u'massive', 1),\n",
       " (u'maxIterations=10,', 1),\n",
       " (u'first', 1),\n",
       " (u'computational', 1),\n",
       " (u'Plot', 1),\n",
       " (u'snippet:', 1),\n",
       " (u'Scale', 1),\n",
       " (u'plots', 1),\n",
       " (u'11/05/2015', 1),\n",
       " (u'LinearRegressionWithSGD', 1),\n",
       " (u'management', 1),\n",
       " (u'computing', 1),\n",
       " (u'appears', 1),\n",
       " (u'2', 1),\n",
       " (u'parsedData.map(lambda', 1),\n",
       " (u'X1', 1),\n",
       " (u'more', 1),\n",
       " (u'iteration,', 1),\n",
       " (u'||X||', 1),\n",
       " (u'RDD', 1),\n",
       " (u'norm):', 1),\n",
       " (u'10.1:', 1),\n",
       " (u'===MIDS', 1),\n",
       " (u'Error', 1),\n",
       " (u'10', 1),\n",
       " (u'cluster', 1),\n",
       " (u'can', 1),\n",
       " (u'KMeansModel', 1),\n",
       " (u'(list', 1),\n",
       " (u'iterations.', 1),\n",
       " (u'give', 1),\n",
       " (u\"MLLib's\", 1),\n",
       " (u'print(\"Within', 1),\n",
       " (u'measure', 1),\n",
       " (u'V1.0', 1),\n",
       " (u'at', 1),\n",
       " (u'work', 1),\n",
       " (u'Then', 1),\n",
       " (u'data.', 1),\n",
       " (u'line:', 1),\n",
       " (u'Java,', 1),\n",
       " (u'instance', 1),\n",
       " (u'other', 1),\n",
       " (u'\"', 1),\n",
       " (u'(regularization)\".', 1),\n",
       " (u'blanks', 1),\n",
       " (u'10.3:', 1),\n",
       " (u'y:', 1),\n",
       " (u'applications', 1),\n",
       " (u'notebook', 1),\n",
       " (u'such', 1),\n",
       " (u'words.', 1),\n",
       " (u'descent', 1),\n",
       " (u'center', 1),\n",
       " (u'sets', 1),\n",
       " (u'element', 1),\n",
       " (u'train', 1),\n",
       " (u'code)', 1),\n",
       " (u'HW10.4.', 1),\n",
       " (u'-----------------------', 2),\n",
       " (u'notebook:', 2),\n",
       " (u'plots.', 2),\n",
       " (u'--', 2),\n",
       " (u'iterations', 2),\n",
       " (u'list', 2),\n",
       " (u'run', 2),\n",
       " (u'regression.', 2),\n",
       " (u'Report', 2),\n",
       " (u'evaluation', 2),\n",
       " (u'available', 2),\n",
       " (u'https://www.dropbox.com/s/q85t0ytb9apggnh/kmeans_data.txt?dl=0', 2),\n",
       " (u'LASS0', 2),\n",
       " (u'here', 2),\n",
       " (u'RIDGE', 2),\n",
       " (u'10.6.1', 2),\n",
       " (u'Apache', 2),\n",
       " (u'word', 2),\n",
       " (u'set.', 2),\n",
       " (u'HW10.3.', 2),\n",
       " (u'clusters.', 2),\n",
       " (u'NOTE', 2),\n",
       " (u'set', 2),\n",
       " (u'testing', 2),\n",
       " (u'iterations,', 2),\n",
       " (u'between', 2),\n",
       " (u'be', 2),\n",
       " (u'found', 2),\n",
       " (u'points', 2),\n",
       " (u'how', 2),\n",
       " (u'(OPTIONAL)', 2),\n",
       " (u'or', 2),\n",
       " (u'findings.', 2),\n",
       " (u'one', 2),\n",
       " (u'Explain.', 2),\n",
       " (u'that', 2),\n",
       " (u'differences', 2),\n",
       " (u'\"myModelPath\")', 2),\n",
       " (u'up', 2),\n",
       " (u'Generate', 2),\n",
       " (u'HW10.3', 2),\n",
       " (u'vector', 2),\n",
       " (u'any', 2),\n",
       " (u'kmeans_data.txt', 2),\n",
       " (u'In', 2),\n",
       " (u'repeat', 2),\n",
       " (u'decreasing', 2),\n",
       " (u'order', 2),\n",
       " (u'Fill', 2),\n",
       " (u'report', 3),\n",
       " (u'words', 3),\n",
       " (u'Spark', 3),\n",
       " (u'+', 3),\n",
       " (u'lazy', 3),\n",
       " (u'100', 3),\n",
       " (u'training', 3),\n",
       " (u'count', 3),\n",
       " (u'following', 3),\n",
       " (u'model', 3),\n",
       " (u'Errors', 3),\n",
       " (u'results', 3),\n",
       " (u'using', 3),\n",
       " (u'Within', 3),\n",
       " (u'===HW', 3),\n",
       " (u'import', 3),\n",
       " (u'after', 3),\n",
       " (u'plot', 3),\n",
       " (u'it', 3),\n",
       " (u'an', 3),\n",
       " (u'regression', 3),\n",
       " (u'document', 3),\n",
       " (u'provided', 3),\n",
       " (u'x', 3),\n",
       " (u'What', 4),\n",
       " (u'Sum', 4),\n",
       " (u'Comment', 4),\n",
       " (u'Squared', 4),\n",
       " (u'each', 4),\n",
       " (u'linear', 4),\n",
       " (u'HW', 4),\n",
       " (u'Set', 4),\n",
       " (u'==HW', 4),\n",
       " (u'example', 4),\n",
       " (u'clusters', 4),\n",
       " (u'from', 5),\n",
       " (u'this', 5),\n",
       " (u'as', 5),\n",
       " (u'#', 6),\n",
       " (u'===', 6),\n",
       " (u'your', 6),\n",
       " (u'KMeans', 6),\n",
       " (u'for', 7),\n",
       " (u'with', 7),\n",
       " (u'is', 7),\n",
       " (u'Using', 7),\n",
       " (u'on', 7),\n",
       " (u'=', 8),\n",
       " (u'data', 8),\n",
       " (u'code', 9),\n",
       " (u'to', 9),\n",
       " (u'a', 11),\n",
       " (u'of', 17),\n",
       " (u'in', 17),\n",
       " (u'and', 23),\n",
       " (u'the', 44)]"
      ]
     },
     "execution_count": 10,
     "metadata": {},
     "output_type": "execute_result"
    }
   ],
   "source": [
    "from operator import add\n",
    "    \n",
    "filename = 'MIDS-MLS-HW-10.txt'\n",
    "myFile = sc.textFile(filename).flatMap(lambda x: x.split()).persist()\n",
    "myFile.map(lambda x: (x, 1)).reduceByKey(add).sortBy(lambda x: x[1]).collect()"
   ]
  },
  {
   "cell_type": "markdown",
   "metadata": {},
   "source": [
    "#HW 10.1.1\n",
    "Modify the above word count code to count words that begin with lower case letters (a-z) and report your findings. Again sort the output words in decreasing order of frequency."
   ]
  },
  {
   "cell_type": "markdown",
   "metadata": {},
   "source": [
    "##Answer"
   ]
  },
  {
   "cell_type": "code",
   "execution_count": 11,
   "metadata": {
    "collapsed": false
   },
   "outputs": [
    {
     "data": {
      "text/plain": [
       "[(u'y)', 1),\n",
       " (u'sameModel', 1),\n",
       " (u'intuitoive', 1),\n",
       " (u'consists', 1),\n",
       " (u'snippet', 1),\n",
       " (u'based', 1),\n",
       " (u'parameters', 1),\n",
       " (u'error(point):', 1),\n",
       " (u'distributed', 1),\n",
       " (u'languages', 1),\n",
       " (u'homework', 1),\n",
       " (u'return', 1),\n",
       " (u'runs=10,', 1),\n",
       " (u'experiment.', 1),\n",
       " (u'compute', 1),\n",
       " (u'sc.textFile(\"kmeans_data.txt\")', 1),\n",
       " (u'bringing', 1),\n",
       " (u'program.', 1),\n",
       " (u'runs', 1),\n",
       " (u'resource', 1),\n",
       " (u'questions===', 1),\n",
       " (u'array([float(x)', 1),\n",
       " (u'frequency.', 1),\n",
       " (u'where', 1),\n",
       " (u'initializationMode=\"random\")', 1),\n",
       " (u'generation', 1),\n",
       " (u'provided).', 1),\n",
       " (u'sqrt(sum([x**2', 1),\n",
       " (u'please', 1),\n",
       " (u'per', 1),\n",
       " (u'cell', 1),\n",
       " (u'blanks:', 1),\n",
       " (u'above', 1),\n",
       " (u'math', 1),\n",
       " (u'interfaces', 1),\n",
       " (u'modify', 1),\n",
       " (u'error(point)).reduce(lambda', 1),\n",
       " (u'comment', 1),\n",
       " (u'implementation', 1),\n",
       " (u'length', 1),\n",
       " (u'resulting', 1),\n",
       " (u'follows:', 1),\n",
       " (u'pyspark.mllib.clustering', 1),\n",
       " (u'load', 1),\n",
       " (u'letters', 1),\n",
       " (u'had', 1),\n",
       " (u'done', 1),\n",
       " (u'array', 1),\n",
       " (u'https://www.dropbox.com/s/3nsthvp8g2rrrdh/EM-Kmeans.ipynb?dl=0', 1),\n",
       " (u'clustering', 1),\n",
       " (u'use', 1),\n",
       " (u'findings', 1),\n",
       " (u'numpy', 1),\n",
       " (u'sort', 1),\n",
       " (u'x,', 1),\n",
       " (u'manner.', 1),\n",
       " (u'case', 1),\n",
       " (u'single', 1),\n",
       " (u'labeled', 1),\n",
       " (u'fun', 1),\n",
       " (u'def', 1),\n",
       " (u'model?', 1),\n",
       " (u'parse', 1),\n",
       " (u'different', 1),\n",
       " (u'develop', 1),\n",
       " (u'provide', 1),\n",
       " (u'weight(X)=', 1),\n",
       " (u'sqrt', 1),\n",
       " (u'write', 1),\n",
       " (u'answer', 1),\n",
       " (u'point:', 1),\n",
       " (u'begin', 1),\n",
       " (u'driver', 1),\n",
       " (u'data)', 1),\n",
       " (u'data.map(lambda', 1),\n",
       " (u'tune', 1),\n",
       " (u'documents).', 1),\n",
       " (u'tokens', 1),\n",
       " (u'lower', 1),\n",
       " (u'savings', 1),\n",
       " (u'algorithms', 1),\n",
       " (u'hyper', 1),\n",
       " (u'show', 1),\n",
       " (u'text', 1),\n",
       " (u'sorted', 1),\n",
       " (u'find', 1),\n",
       " (u\"line.split('\", 1),\n",
       " (u'inverse', 1),\n",
       " (u'instance', 1),\n",
       " (u'do', 1),\n",
       " (u'good', 1),\n",
       " (u'get', 1),\n",
       " (u'evaluate', 1),\n",
       " (u'framework', 1),\n",
       " (u'progress', 1),\n",
       " (u'dataset', 1),\n",
       " (u'evaluation.', 1),\n",
       " (u'follows', 1),\n",
       " (u'https://www.dropbox.com/s/atzqkc0p1eajuz6/LinearRegression-Notebook-Challenge.ipynb?dl=0',\n",
       "  1),\n",
       " (u'server', 1),\n",
       " (u'iterations.', 1),\n",
       " (u'y:', 1),\n",
       " (u'either', 1),\n",
       " (u'often', 1),\n",
       " (u'parsedData.map(lambda', 1),\n",
       " (u'back', 1),\n",
       " (u'experiments', 1),\n",
       " (u'clusters.save(sc,', 1),\n",
       " (u'frequency', 1),\n",
       " (u'hundred)', 1),\n",
       " (u'measure', 1),\n",
       " (u'experiements', 1),\n",
       " (u'norm):', 1),\n",
       " (u'parsedData', 1),\n",
       " (u'following:', 1),\n",
       " (u'separate', 1),\n",
       " (u'creating', 1),\n",
       " (u'provide,', 1),\n",
       " (u'occurence.', 1),\n",
       " (u'snippet:', 1),\n",
       " (u'plots', 1),\n",
       " (u'by', 1),\n",
       " (u'languages).', 1),\n",
       " (u'str(WSSSE))', 1),\n",
       " (u'la', 1),\n",
       " (u'massive', 1),\n",
       " (u'maxIterations=10,', 1),\n",
       " (u'first', 1),\n",
       " (u'computational', 1),\n",
       " (u'number', 1),\n",
       " (u'weighted', 1),\n",
       " (u'center)]))', 1),\n",
       " (u'management', 1),\n",
       " (u'print(\"Within', 1),\n",
       " (u'appears', 1),\n",
       " (u'more', 1),\n",
       " (u'iteration,', 1),\n",
       " (u'train', 1),\n",
       " (u'made', 1),\n",
       " (u'cluster', 1),\n",
       " (u'work', 1),\n",
       " (u'can', 1),\n",
       " (u'clusters.centers[clusters.predict(point)]', 1),\n",
       " (u'computing', 1),\n",
       " (u'words.', 1),\n",
       " (u'at', 1),\n",
       " (u'data.', 1),\n",
       " (u'line:', 1),\n",
       " (u'output', 1),\n",
       " (u'other', 1),\n",
       " (u'blanks', 1),\n",
       " (u'applications', 1),\n",
       " (u'notebook', 1),\n",
       " (u'such', 1),\n",
       " (u'descent', 1),\n",
       " (u'give', 1),\n",
       " (u'center', 1),\n",
       " (u'sets', 1),\n",
       " (u'element', 1),\n",
       " (u'code)', 1),\n",
       " (u'notebook:', 2),\n",
       " (u'list', 2),\n",
       " (u'run', 2),\n",
       " (u'regression.', 2),\n",
       " (u'evaluation', 2),\n",
       " (u'available', 2),\n",
       " (u'https://www.dropbox.com/s/q85t0ytb9apggnh/kmeans_data.txt?dl=0', 2),\n",
       " (u'here', 2),\n",
       " (u'iterations', 2),\n",
       " (u'word', 2),\n",
       " (u'set.', 2),\n",
       " (u'clusters.', 2),\n",
       " (u'plots.', 2),\n",
       " (u'findings.', 2),\n",
       " (u'found', 2),\n",
       " (u'set', 2),\n",
       " (u'testing', 2),\n",
       " (u'iterations,', 2),\n",
       " (u'between', 2),\n",
       " (u'be', 2),\n",
       " (u'or', 2),\n",
       " (u'one', 2),\n",
       " (u'that', 2),\n",
       " (u'differences', 2),\n",
       " (u'up', 2),\n",
       " (u'vector', 2),\n",
       " (u'kmeans_data.txt', 2),\n",
       " (u'any', 2),\n",
       " (u'how', 2),\n",
       " (u'repeat', 2),\n",
       " (u'points', 2),\n",
       " (u'decreasing', 2),\n",
       " (u'order', 2),\n",
       " (u'count', 3),\n",
       " (u'words', 3),\n",
       " (u'report', 3),\n",
       " (u'lazy', 3),\n",
       " (u'following', 3),\n",
       " (u'training', 3),\n",
       " (u'model', 3),\n",
       " (u'results', 3),\n",
       " (u'using', 3),\n",
       " (u'import', 3),\n",
       " (u'plot', 3),\n",
       " (u'it', 3),\n",
       " (u'an', 3),\n",
       " (u'regression', 3),\n",
       " (u'document', 3),\n",
       " (u'provided', 3),\n",
       " (u'after', 3),\n",
       " (u'x', 3),\n",
       " (u'clusters', 4),\n",
       " (u'each', 4),\n",
       " (u'linear', 4),\n",
       " (u'example', 4),\n",
       " (u'from', 5),\n",
       " (u'this', 5),\n",
       " (u'as', 5),\n",
       " (u'your', 6),\n",
       " (u'for', 7),\n",
       " (u'with', 7),\n",
       " (u'is', 7),\n",
       " (u'on', 7),\n",
       " (u'data', 8),\n",
       " (u'code', 9),\n",
       " (u'to', 9),\n",
       " (u'a', 11),\n",
       " (u'of', 17),\n",
       " (u'in', 17),\n",
       " (u'and', 23),\n",
       " (u'the', 44)]"
      ]
     },
     "execution_count": 11,
     "metadata": {},
     "output_type": "execute_result"
    }
   ],
   "source": [
    "import string\n",
    "myFile.filter(lambda x: x[0] in string.ascii_lowercase).map(lambda x: (x, 1)).reduceByKey(add).sortBy(lambda x: x[1]).collect()"
   ]
  },
  {
   "cell_type": "markdown",
   "metadata": {},
   "source": [
    "#HW 10.2: KMeans a la MLLib\n",
    "Using the following  MLlib-centric KMeans code snippet: \n",
    "\n",
    "from pyspark.mllib.clustering import KMeans, KMeansModel  \n",
    "from numpy import array  \n",
    "from math import sqrt  \n",
    "\n",
    "\\# Load and parse the data\n",
    "\\# NOTE  kmeans_data.txt is available here https://www.dropbox.com/s/q85t0ytb9apggnh/kmeans_data.txt?dl=0 \n",
    "data = sc.textFile(\"kmeans_data.txt\")\n",
    "parsedData = data.map(lambda line: array([float(x) for x in line.split(' ')]))\n",
    "\n",
    "\\# Build the model (cluster the data)\n",
    "clusters = KMeans.train(parsedData, 2, maxIterations=10,\n",
    "        runs=10, initializationMode=\"random\")\n",
    "\n",
    "\\# Evaluate clustering by computing Within Set Sum of Squared Errors\n",
    "def error(point):\n",
    "    center = clusters.centers[clusters.predict(point)]\n",
    "    return sqrt(sum([x**2 for x in (point - center)]))\n",
    "\n",
    "WSSSE = parsedData.map(lambda point: error(point)).reduce(lambda x, y: x + y)\n",
    "print(\"Within Set Sum of Squared Error = \" + str(WSSSE))\n",
    "\n",
    "\\# Save and load model\n",
    "clusters.save(sc, \"myModelPath\")\n",
    "sameModel = KMeansModel.load(sc, \"myModelPath\")\n",
    "\n",
    "\n",
    "\\# NOTE  kmeans_data.txt is available here https://www.dropbox.com/s/q85t0ytb9apggnh/kmeans_data.txt?dl=0 \n",
    "\n",
    "Run this code snippet and list the clusters that your find and compute the Within Set Sum of Squared Errors for the found clusters. Comment on your findings."
   ]
  },
  {
   "cell_type": "markdown",
   "metadata": {},
   "source": [
    "##Answer"
   ]
  },
  {
   "cell_type": "code",
   "execution_count": 13,
   "metadata": {
    "collapsed": false
   },
   "outputs": [
    {
     "name": "stdout",
     "output_type": "stream",
     "text": [
      "Within Set Sum of Squared Error = 0.692820323028\n"
     ]
    }
   ],
   "source": [
    "from pyspark.mllib.clustering import KMeans, KMeansModel\n",
    "from numpy import array\n",
    "from math import sqrt\n",
    "\n",
    "# Load and parse the data\n",
    "# NOTE  kmeans_data.txt is available here https://www.dropbox.com/s/q85t0ytb9apggnh/kmeans_data.txt?dl=0 \n",
    "data = sc.textFile(\"kmeans_data.txt\")\n",
    "parsedData = data.map(lambda line: array([float(x) for x in line.split(' ')]))\n",
    "\n",
    "# Build the model (cluster the data)\n",
    "clusters = KMeans.train(parsedData, 2, maxIterations=10,\n",
    "        runs=10, initializationMode=\"random\")\n",
    "\n",
    "# Evaluate clustering by computing Within Set Sum of Squared Errors\n",
    "def error(point):\n",
    "    center = clusters.centers[clusters.predict(point)]\n",
    "    return sqrt(sum([x**2 for x in (point - center)]))\n",
    "\n",
    "WSSSE = parsedData.map(lambda point: error(point)).reduce(lambda x, y: x + y)\n",
    "print(\"Within Set Sum of Squared Error = \" + str(WSSSE))\n",
    "\n",
    "# Save and load model\n",
    "clusters.save(sc, \"myModelPath\")\n",
    "sameModel = KMeansModel.load(sc, \"myModelPath\")"
   ]
  },
  {
   "cell_type": "markdown",
   "metadata": {},
   "source": [
    "##Printing cluster list"
   ]
  },
  {
   "cell_type": "code",
   "execution_count": 14,
   "metadata": {
    "collapsed": false
   },
   "outputs": [
    {
     "name": "stdout",
     "output_type": "stream",
     "text": [
      "Cluster 0 is [ 0.1  0.1  0.1]\n",
      "Cluster 1 is [ 9.1  9.1  9.1]\n"
     ]
    }
   ],
   "source": [
    "for i in xrange(len(clusters.centers)):\n",
    "    print \"Cluster {0} is {1}\".format(i, clusters.centers[i])"
   ]
  },
  {
   "cell_type": "markdown",
   "metadata": {},
   "source": [
    "#HW 10.3\n",
    "Download the following KMeans notebook:\n",
    "\n",
    "https://www.dropbox.com/s/3nsthvp8g2rrrdh/EM-Kmeans.ipynb?dl=0\n",
    "\n",
    "Generate 3 clusters with 100 (one hundred) data points per cluster (using the code provided). Plot the data.\n",
    "Then run MLlib's Kmean implementation on this data  and report your results as follows:\n",
    "\n",
    "  -- plot the resulting clusters after 1 iteration, 10 iterations, after 20 iterations, after 100 iterations.\n",
    "  -- in each plot please report the Within Set Sum of Squared Errors for the found clusters. Comment on the progress of this measure as \n",
    "  the KMEans algorithms runs for more iterations"
   ]
  },
  {
   "cell_type": "markdown",
   "metadata": {},
   "source": [
    "##Answer"
   ]
  },
  {
   "cell_type": "code",
   "execution_count": 27,
   "metadata": {
    "collapsed": true
   },
   "outputs": [],
   "source": [
    " %matplotlib inline\n",
    "import numpy as np\n",
    "import pylab \n",
    "import json\n",
    "size1 = size2 = size3 = 100\n",
    "samples1 = np.random.multivariate_normal([4, 0], [[1, 0],[0, 1]], size1)\n",
    "data = samples1\n",
    "samples2 = np.random.multivariate_normal([6, 6], [[1, 0],[0, 1]], size2)\n",
    "data = np.append(data,samples2, axis=0)\n",
    "samples3 = np.random.multivariate_normal([0, 4], [[1, 0],[0, 1]], size3)\n",
    "data = np.append(data,samples3, axis=0)\n",
    "# Randomlize data\n",
    "data = data[np.random.permutation(size1+size2+size3),]\n",
    "np.savetxt('data.csv',data,delimiter = ',')"
   ]
  },
  {
   "cell_type": "code",
   "execution_count": 28,
   "metadata": {
    "collapsed": false
   },
   "outputs": [
    {
     "data": {
      "image/png": "[encoded data removed]",
      "text/plain": [
       "<matplotlib.figure.Figure at 0x7f3f9392f9d0>"
      ]
     },
     "metadata": {},
     "output_type": "display_data"
    }
   ],
   "source": [
    "pylab.plot(samples1[:, 0], samples1[:, 1],'*', color = 'red')\n",
    "pylab.plot(samples2[:, 0], samples2[:, 1],'o', color = 'blue')\n",
    "pylab.plot(samples3[:, 0], samples3[:, 1],'+', color = 'green')\n",
    "pylab.show()"
   ]
  },
  {
   "cell_type": "code",
   "execution_count": 41,
   "metadata": {
    "collapsed": false
   },
   "outputs": [],
   "source": [
    "# Load and parse the data\n",
    "data = sc.textFile(\"data.csv\")\n",
    "parsedData = data.map(lambda line: array([float(x) for x in line.split(',')])).cache()"
   ]
  },
  {
   "cell_type": "code",
   "execution_count": 42,
   "metadata": {
    "collapsed": false
   },
   "outputs": [],
   "source": [
    "# Evaluate clustering by computing Within Set Sum of Squared Errors\n",
    "def error(point, clusters):\n",
    "    center = clusters.centers[clusters.predict(point)]\n",
    "    return sqrt(sum([x**2 for x in (point - center)]))\n",
    "\n",
    "def myKmeans(iterations):\n",
    "    # Build the model (cluster the data)\n",
    "    clusters = KMeans.train(parsedData, 3, maxIterations=iterations, runs=1, initializationMode=\"random\")\n",
    "    # Calculating WSSSE\n",
    "    WSSSE = parsedData.map(lambda point: error(point, clusters)).reduce(lambda x, y: x + y)\n",
    "    print(\"Within Set Sum of Squared Error (WSSSE) = \" + str(WSSSE))\n",
    "    \n",
    "    # Plotting cluster\n",
    "    colors = {0: ('red', '*'), 1: ('green', 'o'), 2: ('blue', '+')}\n",
    "\n",
    "    clustered = parsedData.map(lambda point: (colors[clusters.predict(point)], point)).collect()\n",
    "    for pair in clustered:\n",
    "        pylab.plot(pair[1][0], pair[1][1], pair[0][1], color = pair[0][0])\n",
    "    \n",
    "    # Printing Centroids\n",
    "    print \"> Centroids:\"\n",
    "    for centroids in clusters.centers:\n",
    "        print centroids\n",
    "        pylab.plot(centroids[0], centroids[1], 's', color = 'yellow')"
   ]
  },
  {
   "cell_type": "code",
   "execution_count": 43,
   "metadata": {
    "collapsed": false
   },
   "outputs": [
    {
     "name": "stdout",
     "output_type": "stream",
     "text": [
      "Within Set Sum of Squared Error (WSSSE) = 622.937963413\n",
      "> Centroids:\n",
      "[ 0.73930291  4.73418756]\n",
      "[ 4.53213927  3.49505789]\n",
      "[ 5.03993128  0.02476158]\n"
     ]
    },
    {
     "data": {
      "image/png": "[encoded data removed]",
      "text/plain": [
       "<matplotlib.figure.Figure at 0x7f3f938f48d0>"
      ]
     },
     "metadata": {},
     "output_type": "display_data"
    }
   ],
   "source": [
    "myKmeans(1)"
   ]
  },
  {
   "cell_type": "code",
   "execution_count": 44,
   "metadata": {
    "collapsed": false
   },
   "outputs": [
    {
     "name": "stdout",
     "output_type": "stream",
     "text": [
      "Within Set Sum of Squared Error (WSSSE) = 376.838366514\n",
      "> Centroids:\n",
      "[ 5.84486218  6.02476859]\n",
      "[ 3.97332014  0.00516774]\n",
      "[ 0.0218808  3.9641607]\n"
     ]
    },
    {
     "data": {
      "image/png": "[encoded data removed]",
      "text/plain": [
       "<matplotlib.figure.Figure at 0x7f3f9833e250>"
      ]
     },
     "metadata": {},
     "output_type": "display_data"
    }
   ],
   "source": [
    "myKmeans(10)"
   ]
  },
  {
   "cell_type": "code",
   "execution_count": 45,
   "metadata": {
    "collapsed": false
   },
   "outputs": [
    {
     "name": "stdout",
     "output_type": "stream",
     "text": [
      "Within Set Sum of Squared Error (WSSSE) = 376.838366514\n",
      "> Centroids:\n",
      "[ 0.0218808  3.9641607]\n",
      "[ 3.97332014  0.00516774]\n",
      "[ 5.84486218  6.02476859]\n"
     ]
    },
    {
     "data": {
      "image/png": "[encoded data removed]",
      "text/plain": [
       "<matplotlib.figure.Figure at 0x7f3f92394d50>"
      ]
     },
     "metadata": {},
     "output_type": "display_data"
    }
   ],
   "source": [
    "myKmeans(20)"
   ]
  },
  {
   "cell_type": "code",
   "execution_count": 46,
   "metadata": {
    "collapsed": false
   },
   "outputs": [
    {
     "name": "stdout",
     "output_type": "stream",
     "text": [
      "Within Set Sum of Squared Error (WSSSE) = 376.838366514\n",
      "> Centroids:\n",
      "[ 5.84486218  6.02476859]\n",
      "[ 3.97332014  0.00516774]\n",
      "[ 0.0218808  3.9641607]\n"
     ]
    },
    {
     "data": {
      "image/png": "[encoded data removed]",
      "text/plain": [
       "<matplotlib.figure.Figure at 0x7f3f982c42d0>"
      ]
     },
     "metadata": {},
     "output_type": "display_data"
    }
   ],
   "source": [
    "myKmeans(100)"
   ]
  },
  {
   "cell_type": "markdown",
   "metadata": {
    "collapsed": true
   },
   "source": [
    "#HW 10.4\n",
    "Using the KMeans code (homegrown code) provided repeat the experiments in HW10.3. Comment on any differences between the results in HW10.3 and HW10.4. Explain."
   ]
  },
  {
   "cell_type": "markdown",
   "metadata": {},
   "source": [
    "##Answer\n",
    "####Comment on any differences between the results in HW10.3 and HW10.4. Explain.\n",
    ">- HW10.3 completed a lot faster than HW10.4. This shows that MLLIB library of Spark is better written that executes faster\n",
    "- From the 10th iteration, the results of both HW10.3 and HW10.4 were the same. Only after the 1st iteration were the results different. This was because the seed centroids were different\n",
    "- The results of both HW10.3 and HW10.4 converged to the same results because the data did not have local minimas. This is because the data was generated artificially."
   ]
  },
  {
   "cell_type": "code",
   "execution_count": 35,
   "metadata": {
    "collapsed": true
   },
   "outputs": [],
   "source": [
    "def nearest_centroid(point, centroids):\n",
    "    closest_centroid_idx = np.sum((point - centroids)**2, axis=1).argmin()\n",
    "    return closest_centroid_idx\n",
    "\n",
    "def plotPoints(pointsForPlotRDD, centroids):\n",
    "    pointsForPlot = pointsForPlotRDD.collect()\n",
    "    c = {0: ('red', '+'), 1: ('blue', 'o'), 2: ('green', '*')}\n",
    "    \n",
    "    # Plotting all points\n",
    "    for cluster, point in pointsForPlot:\n",
    "        pylab.plot(point[0], point[1], c[cluster][1], color = c[cluster][0])\n",
    "    \n",
    "    # Plotting centroids\n",
    "    for centroid in centroids:\n",
    "        pylab.plot(centroid[0], centroid[1], 's', color = 'yellow')\n",
    "    pylab.show()\n",
    "    \n",
    "def error_wssse(point_tuple, clusters):\n",
    "    center = clusters[point_tuple[0]]\n",
    "    point = point_tuple[1]\n",
    "    return sqrt(sum([x**2 for x in (point - center)]))"
   ]
  },
  {
   "cell_type": "code",
   "execution_count": 36,
   "metadata": {
    "collapsed": false
   },
   "outputs": [],
   "source": [
    "%matplotlib inline\n",
    "import numpy as np\n",
    "import pylab\n",
    "from math import sqrt\n",
    "\n",
    "# Reading training data\n",
    "D = sc.textFile(\"data.csv\").map(lambda x: np.array([float(f) for f in x.split(',')])).cache()\n",
    "centroids = np.array([[0.0,0.0],[2.0,2.0],[0.0,7.0]])\n",
    "\n",
    "def myKmeans(numIterations, centroids, D):\n",
    "    for iters in xrange(numIterations):\n",
    "        pointsPerCluster = D.map(lambda x: (nearest_centroid(x, centroids), x)).countByKey()\n",
    "        pointsForPlotRDD = D.map(lambda x: (nearest_centroid(x, centroids), x))\n",
    "        result = D.map(lambda x: (nearest_centroid(x, centroids), x)).reduceByKey(lambda x, y: x + y).sortBy(lambda x: x[0]).collect()\n",
    "\n",
    "        # Calculating new centroids\n",
    "        new_centroids = list()\n",
    "        for idx, pointSum in result:\n",
    "            new_centroids.append(pointSum/pointsPerCluster[idx])\n",
    "        new_centroids = np.array(new_centroids)\n",
    "        \n",
    "        # Preparing for next loop\n",
    "        centroids = new_centroids\n",
    "        \n",
    "    # Printing results\n",
    "    print \"Iterations:\", numIterations\n",
    "    print \"> Centroids:\"\n",
    "    print centroids\n",
    "    WSSSE = pointsForPlotRDD.map(lambda x: error_wssse(x, centroids)).reduce(lambda x, y: x + y)\n",
    "    print WSSSE\n",
    "    plotPoints(pointsForPlotRDD, centroids)"
   ]
  },
  {
   "cell_type": "code",
   "execution_count": 37,
   "metadata": {
    "collapsed": false
   },
   "outputs": [
    {
     "name": "stdout",
     "output_type": "stream",
     "text": [
      "Iterations: 1\n",
      "> Centroids:\n",
      "[[ 0.60276951  0.76607729]\n",
      " [ 4.01002221  2.57916628]\n",
      " [ 1.92101228  5.64066707]]\n",
      "858.685628251\n"
     ]
    },
    {
     "data": {
      "image/png": "[encoded data removed]",
      "text/plain": [
       "<matplotlib.figure.Figure at 0x7f3f93fd4b50>"
      ]
     },
     "metadata": {},
     "output_type": "display_data"
    }
   ],
   "source": [
    "myKmeans(1, centroids, D)"
   ]
  },
  {
   "cell_type": "code",
   "execution_count": 38,
   "metadata": {
    "collapsed": false
   },
   "outputs": [
    {
     "name": "stdout",
     "output_type": "stream",
     "text": [
      "Iterations: 10\n",
      "> Centroids:\n",
      "[[  2.18807985e-02   3.96416070e+00]\n",
      " [  3.97332014e+00   5.16773830e-03]\n",
      " [  5.84486218e+00   6.02476859e+00]]\n",
      "376.838366514\n"
     ]
    },
    {
     "data": {
      "image/png": "[encoded data removed]",
      "text/plain": [
       "<matplotlib.figure.Figure at 0x7f3f93e25190>"
      ]
     },
     "metadata": {},
     "output_type": "display_data"
    }
   ],
   "source": [
    "myKmeans(10, centroids, D)"
   ]
  },
  {
   "cell_type": "code",
   "execution_count": 39,
   "metadata": {
    "collapsed": false
   },
   "outputs": [
    {
     "name": "stdout",
     "output_type": "stream",
     "text": [
      "Iterations: 20\n",
      "> Centroids:\n",
      "[[  2.18807985e-02   3.96416070e+00]\n",
      " [  3.97332014e+00   5.16773830e-03]\n",
      " [  5.84486218e+00   6.02476859e+00]]\n",
      "376.838366514\n"
     ]
    },
    {
     "data": {
      "image/png": "[encoded data removed]",
      "text/plain": [
       "<matplotlib.figure.Figure at 0x7f3f98321550>"
      ]
     },
     "metadata": {},
     "output_type": "display_data"
    }
   ],
   "source": [
    "myKmeans(20, centroids, D)"
   ]
  },
  {
   "cell_type": "code",
   "execution_count": 40,
   "metadata": {
    "collapsed": false
   },
   "outputs": [
    {
     "name": "stdout",
     "output_type": "stream",
     "text": [
      "Iterations: 100\n",
      "> Centroids:\n",
      "[[  2.18807985e-02   3.96416070e+00]\n",
      " [  3.97332014e+00   5.16773830e-03]\n",
      " [  5.84486218e+00   6.02476859e+00]]\n",
      "376.838366514\n"
     ]
    },
    {
     "data": {
      "image/png": "[encoded data removed]",
      "text/plain": [
       "<matplotlib.figure.Figure at 0x7f3f93809c50>"
      ]
     },
     "metadata": {},
     "output_type": "display_data"
    }
   ],
   "source": [
    "myKmeans(100, centroids, D)"
   ]
  }
 ],
 "metadata": {
  "kernelspec": {
   "display_name": "Python 2",
   "language": "python",
   "name": "python2"
  },
  "language_info": {
   "codemirror_mode": {
    "name": "ipython",
    "version": 2
   },
   "file_extension": ".py",
   "mimetype": "text/x-python",
   "name": "python",
   "nbconvert_exporter": "python",
   "pygments_lexer": "ipython2",
   "version": "2.7.10"
  }
 },
 "nbformat": 4,
 "nbformat_minor": 0
}
